{
 "cells": [
  {
   "cell_type": "code",
   "execution_count": 1,
   "id": "progressive-manitoba",
   "metadata": {},
   "outputs": [],
   "source": [
    "import nltk\n",
    "import numpy as np\n",
    "from nltk.tokenize import sent_tokenize, word_tokenize\n",
    "import openpyxl as xl\n",
    "from snowballstemmer import TurkishStemmer\n",
    "import random\n",
    "import matplotlib.pyplot as plt\n",
    "from nltk.classify.scikitlearn import SklearnClassifier\n",
    "from sklearn.naive_bayes import MultinomialNB, GaussianNB, BernoulliNB\n",
    "from sklearn.linear_model import LogisticRegression, SGDClassifier\n",
    "from sklearn.svm import SVC, LinearSVC, NuSVC"
   ]
  },
  {
   "cell_type": "code",
   "execution_count": 2,
   "id": "associate-departure",
   "metadata": {},
   "outputs": [
    {
     "name": "stdout",
     "output_type": "stream",
     "text": [
      "raw text <class 'str'>\n"
     ]
    }
   ],
   "source": [
    "# To open the workbook  \n",
    "# workbook object is created \n",
    "wb_obj = xl.load_workbook(\"bank_data.xlsx\")\n",
    "\n",
    "# Get workbook active sheet object \n",
    "# from the active attribute \n",
    "sheet_obj = wb_obj.active \n",
    "\n",
    "# Cell objects also have a row, column,  \n",
    "# and coordinate attributes that provide \n",
    "# location information for the cell. \n",
    "\n",
    "# Note: The first row or  \n",
    "# column integer is 1, not 0.\n",
    "\n",
    "# Cell object is created by using  \n",
    "# sheet object's cell() method. \n",
    "cell_obj = sheet_obj.cell(row = 1, column = 1) \n",
    "\n",
    "# Print value of cell object  \n",
    "# using the value attribute \n",
    "print(cell_obj.value, type(cell_obj.value))"
   ]
  },
  {
   "cell_type": "code",
   "execution_count": 3,
   "id": "average-horror",
   "metadata": {},
   "outputs": [
    {
     "name": "stdout",
     "output_type": "stream",
     "text": [
      "4757\n"
     ]
    }
   ],
   "source": [
    "tot_row = sheet_obj.max_row #the total number of rows, including the first line\n",
    "tot_col = sheet_obj.max_column #the total number of col\n",
    "\n",
    "print(tot_row)"
   ]
  },
  {
   "cell_type": "code",
   "execution_count": 4,
   "id": "double-tablet",
   "metadata": {},
   "outputs": [],
   "source": [
    "documents = []\n",
    "options = []\n",
    "for i in range(2, tot_row): \n",
    "    cell_obj_statement = sheet_obj.cell(row = i, column = 2) \n",
    "    cell_obj_intent = sheet_obj.cell(row = i, column = 3)\n",
    "    documents.append(cell_obj_statement.value.lower())\n",
    "    options.append(cell_obj_intent.value)"
   ]
  },
  {
   "cell_type": "code",
   "execution_count": 5,
   "id": "demographic-essex",
   "metadata": {},
   "outputs": [],
   "source": [
    "documents\n",
    "options\n",
    "\n",
    "# option_set = set(options)    \n",
    "\n",
    "# option_dict = {}\n",
    "\n",
    "# num_opt = 0\n",
    "# for opt in option_set:\n",
    "#     option_dict[opt] = num_opt\n",
    "#     num_opt = num_opt + 1 \n",
    "\n",
    "# y_opt = []    \n",
    "# for opt in options:\n",
    "#     y_opt.append(option_dict[opt])\n",
    "\n",
    "y = np.array(options)"
   ]
  },
  {
   "cell_type": "code",
   "execution_count": 6,
   "id": "everyday-interval",
   "metadata": {},
   "outputs": [],
   "source": [
    "from sklearn.feature_extraction import DictVectorizer\n",
    "vec = DictVectorizer()\n",
    "from sklearn.feature_extraction.text import CountVectorizer\n",
    "from sklearn.feature_extraction.text import TfidfVectorizer\n",
    "\n",
    "vectorizer = TfidfVectorizer(max_df = 0.85) # by setting max_df to an integer, a word which has a df larger than 0.85 will be treated as a stop-word\n",
    "bigram_vectorizer = CountVectorizer(ngram_range=(1,2),\n",
    "                                   token_pattern=r'\\b\\w+\\b', min_df=1)\n"
   ]
  },
  {
   "cell_type": "code",
   "execution_count": 7,
   "id": "verified-stockholm",
   "metadata": {},
   "outputs": [
    {
     "name": "stdout",
     "output_type": "stream",
     "text": [
      "[[0. 0. 0. ... 0. 0. 0.]\n",
      " [0. 0. 0. ... 0. 0. 0.]\n",
      " [0. 0. 0. ... 0. 0. 0.]\n",
      " ...\n",
      " [0. 0. 0. ... 0. 0. 0.]\n",
      " [0. 0. 0. ... 0. 0. 0.]\n",
      " [0. 0. 0. ... 0. 0. 0.]]\n"
     ]
    }
   ],
   "source": [
    "X_tf = vectorizer.fit_transform(documents).toarray()\n",
    "X_2 = bigram_vectorizer.fit_transform(documents).toarray()\n",
    "\n",
    "print(X_tf)"
   ]
  },
  {
   "cell_type": "code",
   "execution_count": 8,
   "id": "meaningful-halloween",
   "metadata": {},
   "outputs": [
    {
     "data": {
      "text/plain": [
       "79"
      ]
     },
     "execution_count": 8,
     "metadata": {},
     "output_type": "execute_result"
    }
   ],
   "source": [
    "feature_index = bigram_vectorizer.vocabulary_.get('para çekmek')\n",
    "np.sum(X_2[:, feature_index])"
   ]
  },
  {
   "cell_type": "code",
   "execution_count": 9,
   "id": "about-species",
   "metadata": {},
   "outputs": [],
   "source": [
    "from sklearn.model_selection import train_test_split\n",
    "from sklearn.feature_extraction.text import TfidfTransformer\n",
    "transformer = TfidfTransformer(smooth_idf=True)\n",
    "\n",
    "#Below part is vectorized by bigram_vectorizer\n",
    "X = transformer.fit_transform(X_2).toarray()\n",
    "X_train, X_test, y_train, y_test = train_test_split(X, y, test_size=0.2, random_state=42)\n",
    "\n",
    "#Below part is vectorized and transformed by TfidfVectorizer\n",
    "X_tf_train, X_tf_test, y_tf_train, y_tf_test = train_test_split(X_tf, y, test_size = 0.2, random_state=42)"
   ]
  },
  {
   "cell_type": "code",
   "execution_count": 10,
   "id": "subject-facing",
   "metadata": {},
   "outputs": [
    {
     "data": {
      "text/plain": [
       "((3804, 6871), (3804,))"
      ]
     },
     "execution_count": 10,
     "metadata": {},
     "output_type": "execute_result"
    }
   ],
   "source": [
    "X_train.shape, y_train.shape"
   ]
  },
  {
   "cell_type": "code",
   "execution_count": 11,
   "id": "every-donna",
   "metadata": {},
   "outputs": [
    {
     "data": {
      "text/plain": [
       "((951, 6871), (951,))"
      ]
     },
     "execution_count": 11,
     "metadata": {},
     "output_type": "execute_result"
    }
   ],
   "source": [
    "X_test.shape, y_test.shape"
   ]
  },
  {
   "cell_type": "code",
   "execution_count": 12,
   "id": "paperback-pension",
   "metadata": {},
   "outputs": [
    {
     "data": {
      "text/plain": [
       "((3804, 934), (3804,))"
      ]
     },
     "execution_count": 12,
     "metadata": {},
     "output_type": "execute_result"
    }
   ],
   "source": [
    "X_tf_train.shape, y_tf_train.shape"
   ]
  },
  {
   "cell_type": "code",
   "execution_count": 13,
   "id": "prescribed-bottle",
   "metadata": {},
   "outputs": [
    {
     "data": {
      "text/plain": [
       "((951, 934), (951,))"
      ]
     },
     "execution_count": 13,
     "metadata": {},
     "output_type": "execute_result"
    }
   ],
   "source": [
    "X_tf_test.shape, y_tf_test.shape"
   ]
  },
  {
   "cell_type": "code",
   "execution_count": 14,
   "id": "auburn-sarah",
   "metadata": {},
   "outputs": [],
   "source": [
    "from sklearn import svm\n",
    "\n",
    "clf = svm.SVC(kernel='linear', C=1).fit(X_train, y_train)\n",
    "clf_tf = svm.SVC(kernel='linear', C=1).fit(X_tf_train, y_tf_train)"
   ]
  },
  {
   "cell_type": "code",
   "execution_count": 15,
   "id": "guided-arrival",
   "metadata": {},
   "outputs": [
    {
     "name": "stdout",
     "output_type": "stream",
     "text": [
      "Score of bi: 0.9032597266035752\n",
      "Score of tf: 0.9263932702418507\n"
     ]
    }
   ],
   "source": [
    "score_bi = clf.score(X_test, y_test)\n",
    "score_tf = clf_tf.score(X_tf_test,y_tf_test)\n",
    "\n",
    "print(\"Score of bi:\",score_bi)\n",
    "print(\"Score of tf:\",score_tf)"
   ]
  },
  {
   "cell_type": "code",
   "execution_count": 16,
   "id": "horizontal-footwear",
   "metadata": {},
   "outputs": [],
   "source": [
    "#when cv argument is an integer cross_val_score uses the KFold or StratifiedKFold STRATEGİES BY DEFAULT"
   ]
  },
  {
   "cell_type": "code",
   "execution_count": 17,
   "id": "color-trace",
   "metadata": {},
   "outputs": [],
   "source": [
    "#It is also possible to use other cross validation strategies by passing a cross validation iterator"
   ]
  },
  {
   "cell_type": "code",
   "execution_count": 18,
   "id": "given-choir",
   "metadata": {},
   "outputs": [],
   "source": [
    "#If the number of features is much greater than the number of samples, avoid over-fitting in choosing Kernel functions and regularization term is crucial."
   ]
  },
  {
   "cell_type": "code",
   "execution_count": 19,
   "id": "clear-mobility",
   "metadata": {},
   "outputs": [],
   "source": [
    "#SVC, NuSVC and LinearSVC are classes capable of performing binary and multi-class classification on a dataset."
   ]
  },
  {
   "cell_type": "code",
   "execution_count": 20,
   "id": "hungarian-classics",
   "metadata": {},
   "outputs": [],
   "source": [
    "def pred_sent(text, n_gram):\n",
    "    word_l = word_tokenize(text)\n",
    "    \n",
    "    if n_gram == 2:\n",
    "        \n",
    "        for i in range(1,len(word_l)):\n",
    "            two_words = \"\"\n",
    "            two_words = word_l[i-1].lower() + \" \" + word_l[i].lower()\n",
    "            word_l.append(two_words)\n",
    "\n",
    "        tot_features = len(bigram_vectorizer.get_feature_names())\n",
    "        text_arr = np.zeros(tot_features)\n",
    "        inx = 0\n",
    "        \n",
    "        for w in bigram_vectorizer.get_feature_names():\n",
    "            counts = 0\n",
    "            for w2 in word_l:\n",
    "                if w == w2:\n",
    "                    counts = counts +1\n",
    "            text_arr[inx] = counts\n",
    "            inx = inx +1\n",
    "        \n",
    "        x_arr = np.array([text_arr])\n",
    "        x_pred = transformer.fit_transform(x_arr).toarray()\n",
    "        \n",
    "        return clf.predict(x_pred)\n",
    "    \n",
    "    tot_features = len(vectorizer.get_feature_names())\n",
    "    text_arr = np.zeros(tot_features)\n",
    "    inx = 0\n",
    "    \n",
    "    for w in vectorizer.get_feature_names():\n",
    "        counts = 0\n",
    "        for w2 in word_l:\n",
    "            if w == w2:\n",
    "                counts = counts +1\n",
    "        text_arr[inx] = counts\n",
    "        inx = inx +1\n",
    "        \n",
    "    x_arr = np.array([text_arr])\n",
    "    x_pred = transformer.fit_transform(x_arr).toarray()\n",
    "    return clf_tf.predict(x_pred)"
   ]
  },
  {
   "cell_type": "code",
   "execution_count": 21,
   "id": "engaging-writing",
   "metadata": {},
   "outputs": [
    {
     "name": "stdout",
     "output_type": "stream",
     "text": [
      "The operation: ['currency']\n",
      "The operation: ['currency']\n",
      "The operation: ['credit_card']\n",
      "The operation: ['credit']\n",
      "The operation: ['withdraw']\n",
      "The operation: ['money_transfer']\n",
      "The operation: ['money_transfer']\n",
      "The operation: ['credit']\n",
      "The operation: ['credit']\n",
      "The operation: ['credit_card']\n",
      "The operation: ['no_branches']\n",
      "The operation: ['lower_limit']\n",
      "The operation: ['account_border']\n",
      "The operation: ['missing_balance']\n",
      "The operation: ['overdraft']\n",
      "\n",
      "\n",
      "The operation: ['currency']\n",
      "The operation: ['currency']\n",
      "The operation: ['credit_card']\n",
      "The operation: ['credit']\n",
      "The operation: ['withdraw']\n",
      "The operation: ['money_transfer']\n",
      "The operation: ['irr']\n",
      "The operation: ['credit']\n",
      "The operation: ['credit']\n",
      "The operation: ['credit_card']\n",
      "The operation: ['no_branches']\n",
      "The operation: ['lower_limit']\n",
      "The operation: ['interest_earning_time']\n",
      "The operation: ['missing_balance']\n",
      "The operation: ['overdraft']\n"
     ]
    }
   ],
   "source": [
    "print(\"The operation:\",pred_sent('döviz hesabı açmak istemek',2))\n",
    "print(\"The operation:\",pred_sent('döviz hesabı açmak istiyorum',2))\n",
    "print(\"The operation:\",pred_sent('kredi kart açmak istiyorum',2))\n",
    "print(\"The operation:\",pred_sent('kredi almak istiyorum',2))\n",
    "print(\"The operation:\",pred_sent('para çekmek istiyorum',2))\n",
    "print(\"The operation:\",pred_sent('havale yapmak istiyorum',2))\n",
    "print(\"The operation:\",pred_sent('EFT yapmak istiyorum',2))\n",
    "print(\"The operation:\",pred_sent('kredi çekmek istiyorum',2))\n",
    "print(\"The operation:\",pred_sent('kredi kartı almak istiyorum',2))\n",
    "print(\"The operation:\",pred_sent('kredi kart işlemleri',2))\n",
    "print(\"The operation:\",pred_sent('en yakındaki şube nerede',2))\n",
    "print(\"The operation:\",pred_sent('Kredi alt limitim ne kadar',2))\n",
    "print(\"The operation:\",pred_sent('faiz oranı aynı olan hesap açmak istiyorum',2))\n",
    "print(\"The operation:\",pred_sent('bakiyem neden az',2))\n",
    "print(\"The operation:\",pred_sent('ek hesap açmak istiyorum',2))\n",
    "\n",
    "print('\\n')\n",
    "\n",
    "print(\"The operation:\",pred_sent('döviz hesabı açmak istemek',1))\n",
    "print(\"The operation:\",pred_sent('döviz hesabı açmak istiyorum',1))\n",
    "print(\"The operation:\",pred_sent('kredi kart açmak istiyorum',1))\n",
    "print(\"The operation:\",pred_sent('kredi almak istiyorum',1))\n",
    "print(\"The operation:\",pred_sent('para çekmek istiyorum',1))\n",
    "print(\"The operation:\",pred_sent('havale yapmak istiyorum',1))\n",
    "print(\"The operation:\",pred_sent('EFT yapmak istiyorum',1))\n",
    "print(\"The operation:\",pred_sent('kredi çekmek istiyorum',1))\n",
    "print(\"The operation:\",pred_sent('kredi kartı almak istiyorum',1))\n",
    "print(\"The operation:\",pred_sent('kredi kart işlemleri',1))\n",
    "print(\"The operation:\",pred_sent('en yakındaki şube nerede',1))\n",
    "print(\"The operation:\",pred_sent('Kredi alt limitim ne kadar',1))\n",
    "print(\"The operation:\",pred_sent('faiz oranı aynı olan hesap açmak istiyorum',1))\n",
    "print(\"The operation:\",pred_sent('bakiyem neden az',1))\n",
    "print(\"The operation:\",pred_sent('ek hesap açmak istiyorum',1))\n",
    "\n"
   ]
  },
  {
   "cell_type": "code",
   "execution_count": 22,
   "id": "limited-cycle",
   "metadata": {},
   "outputs": [],
   "source": [
    "y_predict = clf.predict(X_test)"
   ]
  },
  {
   "cell_type": "code",
   "execution_count": 23,
   "id": "designing-cartoon",
   "metadata": {},
   "outputs": [
    {
     "name": "stdout",
     "output_type": "stream",
     "text": [
      "Accuracy score of SVC when corpus is vectorized with bigram_vectorizer: 0.9032597266035752\n"
     ]
    }
   ],
   "source": [
    "from sklearn.metrics import accuracy_score\n",
    "print(\"Accuracy score of SVC when corpus is vectorized with bigram_vectorizer:\",accuracy_score(y_test,y_predict))"
   ]
  },
  {
   "cell_type": "code",
   "execution_count": 24,
   "id": "wrong-investment",
   "metadata": {},
   "outputs": [],
   "source": [
    "y_tf_predict = clf_tf.predict(X_tf_test)"
   ]
  },
  {
   "cell_type": "code",
   "execution_count": 25,
   "id": "brief-auditor",
   "metadata": {},
   "outputs": [
    {
     "name": "stdout",
     "output_type": "stream",
     "text": [
      "Accuracy score of SVC when corpus is vectorized with tf-idf vectorizer: 0.9263932702418507\n"
     ]
    }
   ],
   "source": [
    "from sklearn.metrics import accuracy_score\n",
    "print(\"Accuracy score of SVC when corpus is vectorized with tf-idf vectorizer:\",accuracy_score(y_tf_predict,y_tf_test))"
   ]
  },
  {
   "cell_type": "code",
   "execution_count": 26,
   "id": "broken-polyester",
   "metadata": {},
   "outputs": [
    {
     "name": "stdout",
     "output_type": "stream",
     "text": [
      "f1_score of SVC when corpus is vectorized with bigram_vectorizer: 0.901043377241685\n",
      "f1_score SVC when corpus is vectorized with tf-idf vectorizer: 0.9274615115313032\n"
     ]
    }
   ],
   "source": [
    "from sklearn.metrics import average_precision_score, f1_score, precision_score, recall_score\n",
    "\n",
    "print(\"f1_score of SVC when corpus is vectorized with bigram_vectorizer:\",f1_score(y_test,y_predict,average='weighted'))\n",
    "print(\"f1_score SVC when corpus is vectorized with tf-idf vectorizer:\",f1_score(y_tf_predict,y_tf_test,average='weighted'))"
   ]
  },
  {
   "cell_type": "code",
   "execution_count": 27,
   "id": "compliant-induction",
   "metadata": {},
   "outputs": [
    {
     "name": "stdout",
     "output_type": "stream",
     "text": [
      "f1_score of SVC when corpus is vectorized with bigram_vectorizer: 0.8725742577200146\n",
      "f1_score SVC when corpus is vectorized with tf-idf vectorizer: 0.8960114128555694\n"
     ]
    }
   ],
   "source": [
    "print(\"f1_score of SVC when corpus is vectorized with bigram_vectorizer:\",f1_score(y_test,y_predict,average='macro'))\n",
    "print(\"f1_score SVC when corpus is vectorized with tf-idf vectorizer:\",f1_score(y_tf_predict,y_tf_test,average='macro'))"
   ]
  },
  {
   "cell_type": "code",
   "execution_count": 28,
   "id": "unnecessary-malawi",
   "metadata": {},
   "outputs": [
    {
     "name": "stdout",
     "output_type": "stream",
     "text": [
      "f1_score of SVC when corpus is vectorized with bigram_vectorizer: 0.9032597266035752\n",
      "f1_score SVC when corpus is vectorized with tf-idf vectorizer: 0.9263932702418507\n"
     ]
    }
   ],
   "source": [
    "print(\"f1_score of SVC when corpus is vectorized with bigram_vectorizer:\",f1_score(y_test,y_predict,average='micro'))\n",
    "print(\"f1_score SVC when corpus is vectorized with tf-idf vectorizer:\",f1_score(y_tf_predict,y_tf_test,average='micro'))"
   ]
  },
  {
   "cell_type": "code",
   "execution_count": 29,
   "id": "commercial-effort",
   "metadata": {},
   "outputs": [],
   "source": [
    "#since when the vectorization done by the tf-idf, we will move on with this"
   ]
  },
  {
   "cell_type": "code",
   "execution_count": 30,
   "id": "tested-journal",
   "metadata": {},
   "outputs": [],
   "source": [
    "#Now it is time for using other classifiers"
   ]
  },
  {
   "cell_type": "code",
   "execution_count": 31,
   "id": "familiar-motor",
   "metadata": {},
   "outputs": [],
   "source": [
    "# MultinomialNB, GaussianNB, BernoulliNB\n",
    "# LogisticRegression, SGDClassifier\n",
    "# SVC, LinearSVC, NuSVC\n",
    "clf_multinomial = MultinomialNB().fit(X_tf_train,y_tf_train)\n",
    "clf_gaussian = GaussianNB().fit(X_tf_train,y_tf_train)\n",
    "clf_bernoulli = BernoulliNB().fit(X_tf_train,y_tf_train)\n",
    "\n",
    "clf_logreg = LogisticRegression(class_weight=\"balanced\").fit(X_tf_train,y_tf_train)\n",
    "clf_SGD = SGDClassifier(class_weight=\"balanced\").fit(X_tf_train,y_tf_train)\n",
    "\n",
    "clf_linear_SVc = LinearSVC(class_weight=\"balanced\").fit(X_tf_train,y_tf_train)"
   ]
  },
  {
   "cell_type": "code",
   "execution_count": 32,
   "id": "united-visibility",
   "metadata": {},
   "outputs": [
    {
     "name": "stdout",
     "output_type": "stream",
     "text": [
      "Accuracy score of MultinomialNB Classifier: 0.6088328075709779\n",
      "Accuracy score of GaussianNB Classifier: 0.6929547844374343\n",
      "Accuracy score of BernoulliNB Classifier: 0.5131440588853838\n",
      "Accuracy score of LogisticRegression Classifier: 0.8654048370136698\n",
      "Accuracy score of SGDClassifier Classifier: 0.9085173501577287\n",
      "Accuracy score of LinearSVC Classifier: 0.9137749737118822\n"
     ]
    }
   ],
   "source": [
    "print(\"Accuracy score of MultinomialNB Classifier:\",accuracy_score(clf_multinomial.predict(X_tf_test),y_tf_test))\n",
    "print(\"Accuracy score of GaussianNB Classifier:\",accuracy_score(clf_gaussian.predict(X_tf_test),y_tf_test))\n",
    "print(\"Accuracy score of BernoulliNB Classifier:\",accuracy_score(clf_bernoulli.predict(X_tf_test),y_tf_test))\n",
    "print(\"Accuracy score of LogisticRegression Classifier:\",accuracy_score(clf_logreg.predict(X_tf_test),y_tf_test))\n",
    "print(\"Accuracy score of SGDClassifier Classifier:\",accuracy_score(clf_SGD.predict(X_tf_test),y_tf_test))\n",
    "print(\"Accuracy score of LinearSVC Classifier:\",accuracy_score(clf_linear_SVc.predict(X_tf_test),y_tf_test))"
   ]
  },
  {
   "cell_type": "code",
   "execution_count": 33,
   "id": "theoretical-advocacy",
   "metadata": {},
   "outputs": [
    {
     "name": "stdout",
     "output_type": "stream",
     "text": [
      "f1_score of MultinomialNB Classifier: 0.6607960887101698\n",
      "f1_score of GaussianNB Classifier: 0.7001230371836319\n",
      "f1_score of BernoulliNB Classifier: 0.5996658108704402\n",
      "f1_score of LogisticRegression Classifier: 0.8633627818278894\n",
      "f1_score of SGDClassifier Classifier: 0.9084398205053976\n",
      "f1_score of LinearSVC Classifier: 0.9140404166233153\n"
     ]
    }
   ],
   "source": [
    "print(\"f1_score of MultinomialNB Classifier:\",f1_score(clf_multinomial.predict(X_tf_test),y_tf_test,average='weighted'))\n",
    "print(\"f1_score of GaussianNB Classifier:\",f1_score(clf_gaussian.predict(X_tf_test),y_tf_test,average='weighted'))\n",
    "print(\"f1_score of BernoulliNB Classifier:\",f1_score(clf_bernoulli.predict(X_tf_test),y_tf_test,average='weighted'))\n",
    "print(\"f1_score of LogisticRegression Classifier:\",f1_score(clf_logreg.predict(X_tf_test),y_tf_test,average='weighted'))\n",
    "print(\"f1_score of SGDClassifier Classifier:\",f1_score(clf_SGD.predict(X_tf_test),y_tf_test,average='weighted'))\n",
    "print(\"f1_score of LinearSVC Classifier:\",f1_score(clf_linear_SVc.predict(X_tf_test),y_tf_test,average='weighted'))"
   ]
  },
  {
   "cell_type": "code",
   "execution_count": 34,
   "id": "composite-ambassador",
   "metadata": {},
   "outputs": [
    {
     "name": "stdout",
     "output_type": "stream",
     "text": [
      "precision_score of MultinomialNB Classifier: 0.8681366849512897\n",
      "precision_score of GaussianNB Classifier: 0.7449690042377042\n",
      "precision_score of BernoulliNB Classifier: 0.854175381305869\n",
      "precision_score of LogisticRegression Classifier: 0.8756024333862338\n",
      "precision_score of SGDClassifier Classifier: 0.9231541116190867\n",
      "precision_score of LinearSVC Classifier: 0.9235951002151594\n"
     ]
    }
   ],
   "source": [
    "print(\"precision_score of MultinomialNB Classifier:\",precision_score(clf_multinomial.predict(X_tf_test),y_tf_test,average='weighted'))\n",
    "print(\"precision_score of GaussianNB Classifier:\",precision_score(clf_gaussian.predict(X_tf_test),y_tf_test,average='weighted'))\n",
    "print(\"precision_score of BernoulliNB Classifier:\",precision_score(clf_bernoulli.predict(X_tf_test),y_tf_test,average='weighted'))\n",
    "print(\"precision_score of LogisticRegression Classifier:\",precision_score(clf_logreg.predict(X_tf_test),y_tf_test,average='weighted'))\n",
    "print(\"precision_score of SGDClassifier Classifier:\",precision_score(clf_SGD.predict(X_tf_test),y_tf_test,average='weighted'))\n",
    "print(\"precision_score of LinearSVC Classifier:\",precision_score(clf_linear_SVc.predict(X_tf_test),y_tf_test,average='weighted'))"
   ]
  },
  {
   "cell_type": "code",
   "execution_count": 35,
   "id": "viral-indicator",
   "metadata": {},
   "outputs": [
    {
     "name": "stdout",
     "output_type": "stream",
     "text": [
      "recall_score of MultinomialNB Classifier: 0.6088328075709779\n",
      "recall_score of GaussianNB Classifier: 0.6929547844374343\n",
      "recall_score of BernoulliNB Classifier: 0.5131440588853838\n",
      "recall_score of LogisticRegression Classifier: 0.8654048370136698\n",
      "recall_score of SGDClassifier Classifier: 0.9085173501577287\n",
      "recall_score of LinearSVC Classifier: 0.9137749737118822\n"
     ]
    }
   ],
   "source": [
    "print(\"recall_score of MultinomialNB Classifier:\",recall_score(clf_multinomial.predict(X_tf_test),y_tf_test,average='weighted',zero_division=0))\n",
    "print(\"recall_score of GaussianNB Classifier:\",recall_score(clf_gaussian.predict(X_tf_test),y_tf_test,average='weighted',zero_division=0))\n",
    "print(\"recall_score of BernoulliNB Classifier:\",recall_score(clf_bernoulli.predict(X_tf_test),y_tf_test,average='weighted',zero_division=0))\n",
    "print(\"recall_score of LogisticRegression Classifier:\",recall_score(clf_logreg.predict(X_tf_test),y_tf_test,average='weighted',zero_division=0))\n",
    "print(\"recall_score of SGDClassifier Classifier:\",recall_score(clf_SGD.predict(X_tf_test),y_tf_test,average='weighted',zero_division=0))\n",
    "print(\"recall_score of LinearSVC Classifier:\",recall_score(clf_linear_SVc.predict(X_tf_test),y_tf_test,average='weighted',zero_division=0))"
   ]
  },
  {
   "cell_type": "code",
   "execution_count": 36,
   "id": "annoying-story",
   "metadata": {},
   "outputs": [],
   "source": [
    "#When all things are considered the classifier which gives the best accuracy and precision is LinearSVC"
   ]
  },
  {
   "cell_type": "code",
   "execution_count": 37,
   "id": "thick-budapest",
   "metadata": {},
   "outputs": [],
   "source": [
    "def pred_sent(text, n_gram):\n",
    "    word_l = word_tokenize(text.lower())\n",
    "    \n",
    "    if n_gram == 2:\n",
    "        \n",
    "        for i in range(1,len(word_l)):\n",
    "            two_words = \"\"\n",
    "            two_words = word_l[i-1]+ \" \" + word_l[i]\n",
    "\n",
    "        tot_features = len(bigram_vectorizer.get_feature_names())\n",
    "        text_arr = np.zeros(tot_features)\n",
    "        inx = 0\n",
    "        \n",
    "        for w in bigram_vectorizer.get_feature_names():\n",
    "            counts = 0\n",
    "            for w2 in word_l:\n",
    "                if w == w2:\n",
    "                    counts = counts +1\n",
    "            text_arr[inx] = counts\n",
    "            inx = inx +1\n",
    "        \n",
    "        x_arr = np.array([text_arr])\n",
    "        x_pred = transformer.fit_transform(x_arr).toarray()\n",
    "        \n",
    "        return clf_linear_SVc.predict(x_pred)\n",
    "    \n",
    "    tot_features = len(vectorizer.get_feature_names())\n",
    "    text_arr = np.zeros(tot_features)\n",
    "    inx = 0\n",
    "    \n",
    "    for w in vectorizer.get_feature_names():\n",
    "        counts = 0\n",
    "        for w2 in word_l:\n",
    "            if w == w2:\n",
    "                counts = counts +1\n",
    "        text_arr[inx] = counts\n",
    "        inx = inx +1\n",
    "        \n",
    "    x_arr = np.array([text_arr])\n",
    "    x_pred = transformer.fit_transform(x_arr).toarray()\n",
    "    return clf_linear_SVc.predict(x_pred)"
   ]
  },
  {
   "cell_type": "code",
   "execution_count": 38,
   "id": "sound-maintenance",
   "metadata": {},
   "outputs": [
    {
     "name": "stdout",
     "output_type": "stream",
     "text": [
      "The operation: ['currency']\n",
      "The operation: ['currency']\n",
      "The operation: ['credit_card']\n",
      "The operation: ['credit']\n",
      "The operation: ['withdraw']\n",
      "The operation: ['money_transfer']\n",
      "The operation: ['money_transfer']\n",
      "The operation: ['credit']\n",
      "The operation: ['credit']\n",
      "The operation: ['credit_card']\n",
      "The operation: ['no_branches']\n",
      "The operation: ['lower_limit']\n",
      "The operation: ['interest_earning_time']\n",
      "The operation: ['missing_balance']\n",
      "The operation: ['overdraft']\n",
      "The operation: ['pay_into']\n"
     ]
    }
   ],
   "source": [
    "print(\"The operation:\",pred_sent('döviz hesabı açmak istemek',1))\n",
    "print(\"The operation:\",pred_sent('döviz hesabı açmak istiyorum',1))\n",
    "print(\"The operation:\",pred_sent('kredi kart açmak istiyorum',1))\n",
    "print(\"The operation:\",pred_sent('kredi almak istiyorum',1))\n",
    "print(\"The operation:\",pred_sent('para çekmek istiyorum',1))\n",
    "print(\"The operation:\",pred_sent('havale yapmak istiyorum',1))\n",
    "print(\"The operation:\",pred_sent('EFT yapmak istiyorum',1))\n",
    "print(\"The operation:\",pred_sent('kredi çekmek istiyorum',1))\n",
    "print(\"The operation:\",pred_sent('kredi kartı almak istiyorum',1))\n",
    "print(\"The operation:\",pred_sent('kredi kart işlemleri',1))\n",
    "print(\"The operation:\",pred_sent('en yakındaki şube nerede',1))\n",
    "print(\"The operation:\",pred_sent('Kredi alt limitim ne kadar',1))\n",
    "print(\"The operation:\",pred_sent('faiz oranı aynı olan hesap açmak istiyorum',1))\n",
    "print(\"The operation:\",pred_sent('bakiyem neden az',1))\n",
    "print(\"The operation:\",pred_sent('ek hesap açmak istiyorum',1))\n",
    "print(\"The operation:\",pred_sent('para yatırmak istemek',1))"
   ]
  },
  {
   "cell_type": "code",
   "execution_count": 39,
   "id": "optional-aspect",
   "metadata": {},
   "outputs": [],
   "source": [
    "#A last try for Linear SVC"
   ]
  },
  {
   "cell_type": "code",
   "execution_count": 40,
   "id": "violent-julian",
   "metadata": {},
   "outputs": [],
   "source": [
    "clf_linear_SVc = LinearSVC().fit(X_train,y_train)"
   ]
  },
  {
   "cell_type": "code",
   "execution_count": 41,
   "id": "anonymous-plant",
   "metadata": {},
   "outputs": [
    {
     "name": "stdout",
     "output_type": "stream",
     "text": [
      "Accuracy score of LinearSVC Classifier: 0.9348054679284963\n",
      "f1_score of LinearSVC Classifier: 0.9368938022667455\n"
     ]
    }
   ],
   "source": [
    "print(\"Accuracy score of LinearSVC Classifier:\",accuracy_score(clf_linear_SVc.predict(X_test),y_test))\n",
    "print(\"f1_score of LinearSVC Classifier:\",f1_score(clf_linear_SVc.predict(X_test),y_test,average='weighted'))"
   ]
  },
  {
   "cell_type": "code",
   "execution_count": 42,
   "id": "transsexual-division",
   "metadata": {},
   "outputs": [
    {
     "name": "stdout",
     "output_type": "stream",
     "text": [
      "The operation: ['currency']\n",
      "The operation: ['currency']\n",
      "The operation: ['credit']\n",
      "The operation: ['credit']\n",
      "The operation: ['withdraw']\n",
      "The operation: ['money_transfer']\n",
      "The operation: ['money_transfer']\n",
      "The operation: ['credit']\n",
      "The operation: ['credit']\n",
      "The operation: ['credit']\n",
      "The operation: ['no_branches']\n",
      "The operation: ['lower_limit']\n",
      "The operation: ['interest_earning_time']\n",
      "The operation: ['missing_balance']\n",
      "The operation: ['overdraft']\n",
      "The operation: ['pay_into']\n"
     ]
    }
   ],
   "source": [
    "print(\"The operation:\",pred_sent('döviz hesabı açmak istemek',2))\n",
    "print(\"The operation:\",pred_sent('döviz hesabı açmak istiyorum',2))\n",
    "print(\"The operation:\",pred_sent('kredi kart açmak istiyorum',2))\n",
    "print(\"The operation:\",pred_sent('kredi almak istiyorum',2))\n",
    "print(\"The operation:\",pred_sent('para çekmek istiyorum',2))\n",
    "print(\"The operation:\",pred_sent('havale yapmak istiyorum',2))\n",
    "print(\"The operation:\",pred_sent('EFT yapmak istiyorum',2))\n",
    "print(\"The operation:\",pred_sent('kredi çekmek istiyorum',2))\n",
    "print(\"The operation:\",pred_sent('kredi kartı almak istiyorum',2))\n",
    "print(\"The operation:\",pred_sent('kredi kart işlemleri',2))\n",
    "print(\"The operation:\",pred_sent('en yakındaki şube nerede',2))\n",
    "print(\"The operation:\",pred_sent('Kredi alt limit ne kadar',2))\n",
    "print(\"The operation:\",pred_sent('faiz oranı aynı olan hesap açmak istiyorum',2))\n",
    "print(\"The operation:\",pred_sent('bakiyem neden az',2))\n",
    "print(\"The operation:\",pred_sent('ek hesap açmak istiyorum',2))\n",
    "print(\"The operation:\",pred_sent('para yatırmak istemek',2))"
   ]
  },
  {
   "cell_type": "code",
   "execution_count": 43,
   "id": "spatial-failure",
   "metadata": {},
   "outputs": [
    {
     "name": "stdout",
     "output_type": "stream",
     "text": [
      "['pay_into']\n"
     ]
    }
   ],
   "source": [
    "print(pred_sent('para yatırmak istemek',2))"
   ]
  },
  {
   "cell_type": "code",
   "execution_count": 44,
   "id": "resistant-liabilities",
   "metadata": {},
   "outputs": [],
   "source": [
    "# https://scikit-learn.org/stable/auto_examples/text/plot_document_classification_20newsgroups.html#sphx-glr-auto-examples-text-plot-document-classification-20newsgroups-py"
   ]
  },
  {
   "cell_type": "code",
   "execution_count": 45,
   "id": "successful-wyoming",
   "metadata": {},
   "outputs": [],
   "source": [
    "import logging\n",
    "import sys\n",
    "from time import time\n",
    "from optparse import OptionParser"
   ]
  },
  {
   "cell_type": "code",
   "execution_count": 46,
   "id": "spoken-enough",
   "metadata": {},
   "outputs": [],
   "source": [
    "def benchmark(clf):\n",
    "    print('_' * 80)\n",
    "    print(\"Training: \")\n",
    "    print(clf)\n",
    "    t0 = time()\n",
    "    clf.fit(X_tf_train, y_tf_train)\n",
    "    train_time = time() - t0\n",
    "    print(\"train time: %0.3fs\" % train_time)\n",
    "\n",
    "    t0 = time()\n",
    "    pred = clf.predict(X_tf_test)\n",
    "    test_time = time() - t0\n",
    "    print(\"test time:  %0.3fs\" % test_time)\n",
    "\n",
    "    score = accuracy_score(y_tf_test, pred)\n",
    "    print(\"accuracy:   %0.3f\" % score)\n",
    "\n",
    "    print()\n",
    "    clf_descr = str(clf).split('(')[0]\n",
    "    return clf_descr, score, train_time, test_time"
   ]
  },
  {
   "cell_type": "code",
   "execution_count": 47,
   "id": "korean-briefs",
   "metadata": {},
   "outputs": [
    {
     "name": "stdout",
     "output_type": "stream",
     "text": [
      "================================================================================\n",
      "SVC\n",
      "________________________________________________________________________________\n",
      "Training: \n",
      "SVC(C=1, kernel='linear')\n",
      "train time: 8.702s\n",
      "test time:  2.808s\n",
      "accuracy:   0.926\n",
      "\n",
      "================================================================================\n",
      "Multinomial NB\n",
      "________________________________________________________________________________\n",
      "Training: \n",
      "MultinomialNB()\n",
      "train time: 0.033s\n",
      "test time:  0.004s\n",
      "accuracy:   0.609\n",
      "\n",
      "================================================================================\n",
      "Gaussian NB\n",
      "________________________________________________________________________________\n",
      "Training: \n",
      "GaussianNB()\n",
      "train time: 0.109s\n",
      "test time:  0.888s\n",
      "accuracy:   0.693\n",
      "\n",
      "================================================================================\n",
      "Bernoulli NB\n",
      "________________________________________________________________________________\n",
      "Training: \n",
      "BernoulliNB()\n",
      "train time: 0.071s\n",
      "test time:  0.015s\n",
      "accuracy:   0.513\n",
      "\n",
      "================================================================================\n",
      "Logistic Regression\n",
      "________________________________________________________________________________\n",
      "Training: \n",
      "LogisticRegression()\n",
      "train time: 3.742s\n",
      "test time:  0.008s\n",
      "accuracy:   0.834\n",
      "\n",
      "================================================================================\n",
      "SGD Classifier\n",
      "________________________________________________________________________________\n",
      "Training: \n",
      "SGDClassifier()\n",
      "train time: 5.804s\n",
      "test time:  0.005s\n",
      "accuracy:   0.911\n",
      "\n",
      "================================================================================\n",
      "Linear SVC\n",
      "________________________________________________________________________________\n",
      "Training: \n",
      "LinearSVC()\n",
      "train time: 0.237s\n",
      "test time:  0.000s\n",
      "accuracy:   0.927\n",
      "\n"
     ]
    }
   ],
   "source": [
    "# MultinomialNB, GaussianNB, BernoulliNB\n",
    "# LogisticRegression, SGDClassifier\n",
    "# SVC, LinearSVC, NuSVC\n",
    "\n",
    "results = []\n",
    "\n",
    "for clf, name in (\n",
    "        (svm.SVC(kernel='linear', C=1), \"SVC\"),\n",
    "        (MultinomialNB(), \"Multinomial NB\"),\n",
    "        (GaussianNB(),\"Gaussian NB\"),\n",
    "        (BernoulliNB(), \"Bernoulli NB\"),\n",
    "        (LogisticRegression(), \"Logistic Regression\"),\n",
    "        (SGDClassifier(), \"SGD Classifier\"),\n",
    "        (LinearSVC(), \"Linear SVC\")):\n",
    "    print('=' * 80)\n",
    "    print(name)\n",
    "    results.append(benchmark(clf))"
   ]
  },
  {
   "cell_type": "code",
   "execution_count": 48,
   "id": "forbidden-uniform",
   "metadata": {},
   "outputs": [
    {
     "data": {
      "image/png": "[encoded data removed]",
      "text/plain": [
       "<Figure size 864x576 with 1 Axes>"
      ]
     },
     "metadata": {
      "needs_background": "light"
     },
     "output_type": "display_data"
    }
   ],
   "source": [
    "indices = np.arange(len(results))\n",
    "\n",
    "results = [[x[i] for x in results] for i in range(4)]\n",
    "\n",
    "clf_names, score, training_time, test_time = results\n",
    "training_time = np.array(training_time) / np.max(training_time)\n",
    "test_time = np.array(test_time) / np.max(test_time)\n",
    "\n",
    "plt.figure(figsize=(12, 8))\n",
    "plt.title(\"Score\")\n",
    "plt.barh(indices, score, .2, label=\"score\", color='navy')\n",
    "plt.barh(indices + .3, training_time, .2, label=\"training time\",\n",
    "         color='c')\n",
    "plt.barh(indices + .6, test_time, .2, label=\"test time\", color='darkorange')\n",
    "plt.yticks(())\n",
    "plt.legend(loc='best')\n",
    "plt.subplots_adjust(left=.25)\n",
    "plt.subplots_adjust(top=.95)\n",
    "plt.subplots_adjust(bottom=.05)\n",
    "\n",
    "for i, c in zip(indices, clf_names):\n",
    "    plt.text(-.3, i, c)\n",
    "\n",
    "plt.show()"
   ]
  },
  {
   "cell_type": "code",
   "execution_count": 49,
   "id": "atlantic-beverage",
   "metadata": {},
   "outputs": [],
   "source": [
    "#CROSS-VALIDATION SCORES"
   ]
  },
  {
   "cell_type": "code",
   "execution_count": 50,
   "id": "decimal-string",
   "metadata": {},
   "outputs": [],
   "source": [
    "clf_svc = svm.SVC(kernel='linear', C=1)\n",
    "clf_linear_SVc = LinearSVC(class_weight=\"balanced\")\n"
   ]
  },
  {
   "cell_type": "code",
   "execution_count": 51,
   "id": "southwest-delaware",
   "metadata": {},
   "outputs": [
    {
     "name": "stdout",
     "output_type": "stream",
     "text": [
      "SVC: 0.91 accuracy with a standard deviation of 0.01\n",
      "LinearSVC: 0.92 accuracy with a standard deviation of 0.01\n"
     ]
    }
   ],
   "source": [
    "from sklearn.model_selection import cross_val_score\n",
    "\n",
    "score_svc = cross_val_score(clf_svc, X_tf_train, y_tf_train, cv=5, scoring='accuracy')\n",
    "score_linear_SVC = cross_val_score(clf_linear_SVc, X_tf_train, y_tf_train, cv=5, scoring='accuracy')\n",
    "\n",
    "print(\"SVC: %0.2f accuracy with a standard deviation of %0.2f\" % (score_svc.mean(), score_svc.std()))\n",
    "print(\"LinearSVC: %0.2f accuracy with a standard deviation of %0.2f\" % (score_linear_SVC.mean(), score_linear_SVC.std()))"
   ]
  },
  {
   "cell_type": "code",
   "execution_count": 52,
   "id": "premium-essay",
   "metadata": {},
   "outputs": [
    {
     "name": "stdout",
     "output_type": "stream",
     "text": [
      "SVC: 0.91 accuracy with a standard deviation of 0.01\n",
      "LinearSVC: 0.92 accuracy with a standard deviation of 0.01\n"
     ]
    }
   ],
   "source": [
    "score_svc = cross_val_score(clf_svc,X_tf_train, y_tf_train, cv=5, scoring='f1_micro')\n",
    "score_linear_SVC = cross_val_score(clf_linear_SVc, X_tf_train, y_tf_train, cv=5, scoring='f1_micro')\n",
    "\n",
    "print(\"SVC: %0.2f accuracy with a standard deviation of %0.2f\" % (score_svc.mean(), score_svc.std()))\n",
    "print(\"LinearSVC: %0.2f accuracy with a standard deviation of %0.2f\" % (score_linear_SVC.mean(), score_linear_SVC.std()))"
   ]
  },
  {
   "cell_type": "code",
   "execution_count": 53,
   "id": "directed-drive",
   "metadata": {},
   "outputs": [
    {
     "name": "stdout",
     "output_type": "stream",
     "text": [
      "SVC: 0.90 accuracy with a standard deviation of 0.01\n",
      "LinearSVC: 0.91 accuracy with a standard deviation of 0.01\n"
     ]
    }
   ],
   "source": [
    "score_svc = cross_val_score(clf_svc, X_tf_train, y_tf_train, cv=5, scoring='f1_macro')\n",
    "score_linear_SVC = cross_val_score(clf_linear_SVc, X_tf_train, y_tf_train, cv=5, scoring='f1_macro')\n",
    "\n",
    "print(\"SVC: %0.2f accuracy with a standard deviation of %0.2f\" % (score_svc.mean(), score_svc.std()))\n",
    "print(\"LinearSVC: %0.2f accuracy with a standard deviation of %0.2f\" % (score_linear_SVC.mean(), score_linear_SVC.std()))"
   ]
  },
  {
   "cell_type": "code",
   "execution_count": 54,
   "id": "offshore-continent",
   "metadata": {},
   "outputs": [
    {
     "name": "stdout",
     "output_type": "stream",
     "text": [
      "SVC: 0.91 accuracy with a standard deviation of 0.01\n",
      "LinearSVC: 0.92 accuracy with a standard deviation of 0.01\n"
     ]
    }
   ],
   "source": [
    "score_svc = cross_val_score(clf_svc, X_tf_train, y_tf_train, cv=5, scoring='f1_weighted')\n",
    "score_linear_SVC = cross_val_score(clf_linear_SVc, X_tf_train, y_tf_train, cv=5, scoring='f1_weighted')\n",
    "\n",
    "print(\"SVC: %0.2f accuracy with a standard deviation of %0.2f\" % (score_svc.mean(), score_svc.std()))\n",
    "print(\"LinearSVC: %0.2f accuracy with a standard deviation of %0.2f\" % (score_linear_SVC.mean(), score_linear_SVC.std()))"
   ]
  },
  {
   "cell_type": "code",
   "execution_count": 55,
   "id": "sixth-amplifier",
   "metadata": {},
   "outputs": [],
   "source": [
    "# Fine Tuning Part"
   ]
  },
  {
   "cell_type": "code",
   "execution_count": 78,
   "id": "resistant-asian",
   "metadata": {},
   "outputs": [],
   "source": [
    "from sklearn.model_selection import GridSearchCV\n",
    "from sklearn.ensemble import RandomForestClassifier\n",
    "from sklearn.metrics import make_scorer, accuracy_score\n",
    "\n",
    "clf = svm.SVC()\n",
    "\n",
    "parameters = {'kernel':('linear', 'rbf', 'poly', 'sigmoid'), 'C':[1, 10, 1000], 'class_weight': ['balanced']}\n",
    "acc_scorer = make_scorer(accuracy_score)\n",
    "\n",
    "grid_obj = GridSearchCV(clf, parameters, scoring=acc_scorer, cv = 5)\n",
    "grid_obj = grid_obj.fit(X_tf_train, y_tf_train)"
   ]
  },
  {
   "cell_type": "code",
   "execution_count": 81,
   "id": "talented-teach",
   "metadata": {},
   "outputs": [
    {
     "name": "stdout",
     "output_type": "stream",
     "text": [
      "Classifier is trained !\n"
     ]
    }
   ],
   "source": [
    "grid_obj = grid_obj.fit(X_tf_train, y_tf_train)\n",
    "\n",
    "clf = grid_obj.best_estimator_\n",
    "\n",
    "clf.fit(X_tf_train, y_tf_train)\n",
    "\n",
    "print(\"Classifier is trained !\")"
   ]
  },
  {
   "cell_type": "code",
   "execution_count": 82,
   "id": "sunset-affiliate",
   "metadata": {},
   "outputs": [],
   "source": [
    "y_pred = clf.predict(X_tf_test)"
   ]
  },
  {
   "cell_type": "code",
   "execution_count": 83,
   "id": "secure-congo",
   "metadata": {},
   "outputs": [
    {
     "name": "stdout",
     "output_type": "stream",
     "text": [
      "Accuracy score:  0.9327024185068349\n"
     ]
    }
   ],
   "source": [
    "print(\"Accuracy score: \",accuracy_score(y_tf_test,y_pred))"
   ]
  },
  {
   "cell_type": "code",
   "execution_count": 88,
   "id": "circular-career",
   "metadata": {},
   "outputs": [
    {
     "name": "stdout",
     "output_type": "stream",
     "text": [
      "Precision score:  0.9379423576281838\n"
     ]
    }
   ],
   "source": [
    "print(\"Precision score: \",precision_score(y_tf_test,y_pred,average='weighted',zero_division = 0))"
   ]
  },
  {
   "cell_type": "code",
   "execution_count": 90,
   "id": "compressed-kruger",
   "metadata": {},
   "outputs": [
    {
     "name": "stdout",
     "output_type": "stream",
     "text": [
      "Recall score:  0.9327024185068349\n"
     ]
    }
   ],
   "source": [
    "print(\"Recall score: \",recall_score(y_tf_test,y_pred,average='weighted',zero_division = 0))"
   ]
  },
  {
   "cell_type": "code",
   "execution_count": 91,
   "id": "disabled-calculator",
   "metadata": {},
   "outputs": [
    {
     "name": "stdout",
     "output_type": "stream",
     "text": [
      "F1 score:  0.9323471180376464\n"
     ]
    }
   ],
   "source": [
    "print(\"F1 score: \",f1_score(y_tf_test,y_pred,average='weighted',zero_division = 0))"
   ]
  },
  {
   "cell_type": "code",
   "execution_count": 94,
   "id": "derived-france",
   "metadata": {},
   "outputs": [
    {
     "name": "stdout",
     "output_type": "stream",
     "text": [
      "                       precision    recall  f1-score   support\n",
      "\n",
      "   account_advantages       0.96      0.93      0.95        29\n",
      "       account_border       0.96      0.96      0.96        25\n",
      "         account_info       0.80      0.80      0.80        10\n",
      "           activation       1.00      0.88      0.94        17\n",
      "             atm_card       0.75      1.00      0.86         6\n",
      "    automatic_payment       1.00      1.00      1.00         8\n",
      "             birthday       0.90      1.00      0.95         9\n",
      "                  bot       0.89      1.00      0.94         8\n",
      "               cancel       0.92      0.95      0.93        37\n",
      "     changed_interest       1.00      0.88      0.94        17\n",
      "               credit       0.95      0.86      0.90        21\n",
      "          credit_card       0.81      1.00      0.90        13\n",
      "             currency       0.92      1.00      0.96        11\n",
      "        earn_interest       0.92      0.94      0.93        35\n",
      "       exchange_dated       1.00      0.64      0.78        11\n",
      "        exchange_rate       0.92      0.92      0.92        12\n",
      "              expense       0.96      0.92      0.94        25\n",
      "                 form       1.00      1.00      1.00         4\n",
      "               gender       1.00      1.00      1.00         5\n",
      "    how_earn_interest       0.89      0.89      0.89         9\n",
      "interest_earning_time       0.86      1.00      0.92        24\n",
      "           investment       0.95      0.95      0.95        20\n",
      "                  irr       0.99      0.97      0.98       158\n",
      "        joint_account       1.00      1.00      1.00         5\n",
      "                 love       1.00      1.00      1.00         6\n",
      "          lower_limit       0.94      0.92      0.93        36\n",
      "   lower_limit_change       0.94      1.00      0.97        16\n",
      " lower_limit_complate       0.00      0.00      0.00         1\n",
      "      missing_balance       1.00      1.00      1.00         5\n",
      "    money_requirement       1.00      0.82      0.90        11\n",
      "       money_transfer       1.00      0.96      0.98        26\n",
      "         movie_ticket       1.00      1.00      1.00        12\n",
      "                 name       0.75      0.75      0.75         4\n",
      "             name_exp       1.00      1.00      1.00         5\n",
      "          no_branches       0.69      0.90      0.78        10\n",
      "       online_banking       0.80      1.00      0.89         4\n",
      "           out_oxygen       0.75      1.00      0.86         3\n",
      "            overdraft       1.00      0.96      0.98        27\n",
      "             pay_into       1.00      1.00      1.00        15\n",
      "              payment       1.00      1.00      1.00         6\n",
      "   period_of_validity       0.90      1.00      0.95         9\n",
      "       salary_account       1.00      1.00      1.00         7\n",
      "                share       1.00      1.00      1.00         6\n",
      "             shopping       1.00      1.00      1.00         6\n",
      "      state_guarantee       1.00      1.00      1.00        16\n",
      "             stoppage       0.89      1.00      0.94         8\n",
      "                 team       1.00      1.00      1.00         4\n",
      "                 tema       1.00      1.00      1.00        10\n",
      "            term_time       0.50      1.00      0.67         2\n",
      "        time_interval       0.50      0.67      0.57         3\n",
      "             to_apply       0.82      0.89      0.85        46\n",
      "         transactions       1.00      0.60      0.75         5\n",
      "          upper_limit       1.00      1.00      1.00         4\n",
      "                usage       1.00      0.67      0.80        12\n",
      "   view_account_types       0.96      1.00      0.98        24\n",
      "              weather       1.00      1.00      1.00         4\n",
      "     weekend_interest       0.80      0.67      0.73         6\n",
      "     welcome_interest       1.00      0.82      0.90        17\n",
      "         what_is_Kart       0.86      0.79      0.83        24\n",
      "             whats_up       1.00      0.89      0.94         9\n",
      "             withdraw       0.81      0.96      0.88        23\n",
      "\n",
      "             accuracy                           0.93       951\n",
      "            macro avg       0.91      0.91      0.90       951\n",
      "         weighted avg       0.94      0.93      0.93       951\n",
      "\n"
     ]
    }
   ],
   "source": [
    "from sklearn.metrics import classification_report\n",
    "\n",
    "print(classification_report(y_tf_test, y_pred,zero_division=0))"
   ]
  },
  {
   "cell_type": "code",
   "execution_count": 96,
   "id": "emotional-reverse",
   "metadata": {},
   "outputs": [
    {
     "data": {
      "text/plain": [
       "{'C': 10, 'class_weight': 'balanced', 'kernel': 'linear'}"
      ]
     },
     "execution_count": 96,
     "metadata": {},
     "output_type": "execute_result"
    }
   ],
   "source": [
    "grid_obj.best_params_"
   ]
  },
  {
   "cell_type": "code",
   "execution_count": 97,
   "id": "executed-serum",
   "metadata": {},
   "outputs": [],
   "source": [
    "def pred_sent(text):\n",
    "    word_l = word_tokenize(text.lower())\n",
    "    tot_features = len(vectorizer.get_feature_names())\n",
    "    text_arr = np.zeros(tot_features)\n",
    "    inx = 0\n",
    "    \n",
    "    for w in vectorizer.get_feature_names():\n",
    "        counts = 0\n",
    "        for w2 in word_l:\n",
    "            if w == w2:\n",
    "                counts = counts +1\n",
    "        text_arr[inx] = counts\n",
    "        inx = inx +1\n",
    "        \n",
    "    x_arr = np.array([text_arr])\n",
    "    x_pred = transformer.fit_transform(x_arr).toarray()\n",
    "    return clf.predict(x_pred)"
   ]
  },
  {
   "cell_type": "code",
   "execution_count": 101,
   "id": "alpine-outdoors",
   "metadata": {},
   "outputs": [
    {
     "name": "stdout",
     "output_type": "stream",
     "text": [
      "The predicted operation: ['currency'] /Real operation: [currency] \n",
      "\n",
      "The predicted operation: ['currency'] /Real operation: [currency] \n",
      "\n",
      "The predicted operation: ['credit_card'] /Real operation: [credit_card] \n",
      "\n",
      "The predicted operation: ['credit'] /Real operation: [credit] \n",
      "\n",
      "The predicted operation: ['withdraw'] /Real operation: [withdraw] \n",
      "\n",
      "The predicted operation: ['money_transfer'] /Real operation: [money_transfer] \n",
      "\n",
      "The predicted operation: ['money_transfer'] /Real operation: [money_transfer] \n",
      "\n",
      "The predicted operation: ['credit'] /Real operation: [credit] \n",
      "\n",
      "The predicted operation: ['credit'] /Real operation: [credit_card] \n",
      "\n",
      "The predicted operation: ['credit_card'] /Real operation: [credit_card] \n",
      "\n",
      "The predicted operation: ['no_branches'] /Real operation: [no_branches] \n",
      "\n",
      "The predicted operation: ['lower_limit'] /Real operation: [lower_limit] \n",
      "\n",
      "The predicted operation: ['account_border'] /Real operation: [account_border] \n",
      "\n",
      "The predicted operation: ['missing_balance'] /Real operation: [missing_balance] \n",
      "\n",
      "The predicted operation: ['overdraft'] /Real operation: [overdraft] \n",
      "\n",
      "The predicted operation: ['pay_into'] /Real operation: [pay_into] \n",
      "\n"
     ]
    }
   ],
   "source": [
    "print(\"The predicted operation:\",pred_sent('döviz hesabı açmak istemek'),'/Real operation: [''currency'']','\\n')\n",
    "print(\"The predicted operation:\",pred_sent('döviz hesabı açmak istiyorum'),'/Real operation: [''currency'']','\\n')\n",
    "print(\"The predicted operation:\",pred_sent('kredi kart açmak istiyorum'),'/Real operation: [''credit_card'']','\\n')\n",
    "print(\"The predicted operation:\",pred_sent('kredi almak istiyorum'),'/Real operation: [''credit'']','\\n')\n",
    "print(\"The predicted operation:\",pred_sent('para çekmek istiyorum'),'/Real operation: [''withdraw'']','\\n')\n",
    "print(\"The predicted operation:\",pred_sent('havale yapmak istiyorum'),'/Real operation: [''money_transfer'']','\\n')\n",
    "print(\"The predicted operation:\",pred_sent('EFT yapmak istiyorum'),'/Real operation: [''money_transfer'']','\\n')\n",
    "print(\"The predicted operation:\",pred_sent('kredi çekmek istiyorum'),'/Real operation: [''credit'']','\\n')\n",
    "print(\"The predicted operation:\",pred_sent('kredi kartı almak istiyorum'),'/Real operation: [''credit_card'']','\\n')\n",
    "print(\"The predicted operation:\",pred_sent('kredi kart işlemleri'),'/Real operation: [''credit_card'']','\\n')\n",
    "print(\"The predicted operation:\",pred_sent('en yakındaki şube nerede'),'/Real operation: [''no_branches'']','\\n')\n",
    "print(\"The predicted operation:\",pred_sent('Kredi alt limit ne kadar'),'/Real operation: [''lower_limit'']','\\n')\n",
    "print(\"The predicted operation:\",pred_sent('faiz oranı aynı olan hesap açmak istiyorum'),'/Real operation: [''account_border'']','\\n')\n",
    "print(\"The predicted operation:\",pred_sent('bakiyem neden az'),'/Real operation: [''missing_balance'']','\\n')\n",
    "print(\"The predicted operation:\",pred_sent('ek hesap açmak istiyorum'),'/Real operation: [''overdraft'']','\\n')\n",
    "print(\"The predicted operation:\",pred_sent('para yatırmak istemek'),'/Real operation: [''pay_into'']','\\n')"
   ]
  },
  {
   "cell_type": "code",
   "execution_count": 102,
   "id": "empty-branch",
   "metadata": {},
   "outputs": [
    {
     "name": "stdout",
     "output_type": "stream",
     "text": [
      "Son aşama\n"
     ]
    }
   ],
   "source": [
    "print('Son aşama')"
   ]
  },
  {
   "cell_type": "code",
   "execution_count": 103,
   "id": "metropolitan-cloud",
   "metadata": {},
   "outputs": [],
   "source": [
    "#Pickle the trained classifier"
   ]
  },
  {
   "cell_type": "code",
   "execution_count": 106,
   "id": "ceramic-waterproof",
   "metadata": {},
   "outputs": [],
   "source": [
    "import pickle\n",
    "\n",
    "save_classifier = open(\"bank_data_classifier.pickle\",\"wb\")\n",
    "pickle.dump(clf, save_classifier)\n",
    "save_classifier.close()"
   ]
  },
  {
   "cell_type": "code",
   "execution_count": null,
   "id": "social-framework",
   "metadata": {},
   "outputs": [],
   "source": []
  }
 ],
 "metadata": {
  "kernelspec": {
   "display_name": "Python 3",
   "language": "python",
   "name": "python3"
  },
  "language_info": {
   "codemirror_mode": {
    "name": "ipython",
    "version": 3
   },
   "file_extension": ".py",
   "mimetype": "text/x-python",
   "name": "python",
   "nbconvert_exporter": "python",
   "pygments_lexer": "ipython3",
   "version": "3.8.4"
  }
 },
 "nbformat": 4,
 "nbformat_minor": 5
}
