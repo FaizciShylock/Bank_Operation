{
 "cells": [
  {
   "cell_type": "code",
   "execution_count": 8,
   "id": "expected-liability",
   "metadata": {},
   "outputs": [],
   "source": [
    "import nltk\n",
    "import numpy as np\n",
    "from nltk.tokenize import sent_tokenize, word_tokenize\n",
    "import openpyxl as xl\n",
    "from nltk.classify.scikitlearn import SklearnClassifier\n",
    "from sklearn.feature_extraction import DictVectorizer\n",
    "vec = DictVectorizer()\n",
    "from sklearn.feature_extraction.text import CountVectorizer\n",
    "from sklearn.feature_extraction.text import TfidfVectorizer\n",
    "from sklearn.feature_extraction.text import TfidfTransformer"
   ]
  },
  {
   "cell_type": "code",
   "execution_count": 13,
   "id": "treated-operator",
   "metadata": {},
   "outputs": [],
   "source": [
    "wb_obj = xl.load_workbook(\"bank_data.xlsx\")\n",
    "sheet_obj = wb_obj.active\n",
    "\n",
    "tot_row = sheet_obj.max_row #the total number of rows, including the first line\n",
    "tot_col = sheet_obj.max_column #the total number of col\n",
    "\n",
    "documents = []\n",
    "options = []\n",
    "for i in range(2, tot_row): \n",
    "    cell_obj_statement = sheet_obj.cell(row = i, column = 2) \n",
    "    cell_obj_intent = sheet_obj.cell(row = i, column = 3)\n",
    "    documents.append(cell_obj_statement.value.lower())\n",
    "    options.append(cell_obj_intent.value)\n",
    "\n",
    "vectorizer = TfidfVectorizer(max_df = 0.85) # by setting max_df to an integer, a word which has a df larger than 0.85 will be treated as a stop-word\n",
    "\n",
    "from sklearn.model_selection import train_test_split\n",
    "\n",
    "transformer = TfidfTransformer(smooth_idf=True)\n",
    "\n",
    "X_tf = vectorizer.fit_transform(documents).toarray()\n",
    "y = np.array(options)"
   ]
  },
  {
   "cell_type": "code",
   "execution_count": 14,
   "id": "affiliated-colony",
   "metadata": {},
   "outputs": [],
   "source": [
    "import pickle\n",
    "\n",
    "classifier_f = open(\"bank_data_classifier.pickle\",\"rb\")\n",
    "our_classifier = pickle.load(classifier_f)\n",
    "classifier_f.close()"
   ]
  },
  {
   "cell_type": "code",
   "execution_count": 17,
   "id": "heavy-anderson",
   "metadata": {},
   "outputs": [],
   "source": [
    "def pred_sent(text,clf):\n",
    "    word_l = word_tokenize(text.lower())\n",
    "    tot_features = len(vectorizer.get_feature_names())\n",
    "    text_arr = np.zeros(tot_features)\n",
    "    inx = 0\n",
    "    \n",
    "    for w in vectorizer.get_feature_names():\n",
    "        counts = 0\n",
    "        for w2 in word_l:\n",
    "            if w == w2:\n",
    "                counts = counts +1\n",
    "        text_arr[inx] = counts\n",
    "        inx = inx +1\n",
    "        \n",
    "    x_arr = np.array([text_arr])\n",
    "    x_pred = transformer.fit_transform(x_arr).toarray()\n",
    "    return clf.predict(x_pred)"
   ]
  },
  {
   "cell_type": "code",
   "execution_count": 18,
   "id": "sonic-influence",
   "metadata": {},
   "outputs": [
    {
     "name": "stdout",
     "output_type": "stream",
     "text": [
      "Hangi işlemi gerçekleştirmek istiyorsunuz ?: Havale yapmak istiyorum\n",
      "Havale yapmak istiyorum \n",
      " Gerçekleştirmek istediğiniz işlem: ['money_transfer']\n"
     ]
    }
   ],
   "source": [
    "sent = input(\"Hangi işlemi gerçekleştirmek istiyorsunuz ?: \")\n",
    "\n",
    "print(sent,'\\n','Gerçekleştirmek istediğiniz işlem:',pred_sent(sent,our_classifier))"
   ]
  }
 ],
 "metadata": {
  "kernelspec": {
   "display_name": "Python 3",
   "language": "python",
   "name": "python3"
  },
  "language_info": {
   "codemirror_mode": {
    "name": "ipython",
    "version": 3
   },
   "file_extension": ".py",
   "mimetype": "text/x-python",
   "name": "python",
   "nbconvert_exporter": "python",
   "pygments_lexer": "ipython3",
   "version": "3.8.4"
  }
 },
 "nbformat": 4,
 "nbformat_minor": 5
}
